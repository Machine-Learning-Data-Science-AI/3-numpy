{
 "cells": [
  {
   "cell_type": "code",
   "execution_count": 2,
   "id": "05737a8a",
   "metadata": {},
   "outputs": [],
   "source": [
    "import numpy as np"
   ]
  },
  {
   "cell_type": "markdown",
   "id": "78d6b73f",
   "metadata": {},
   "source": [
    "## DataTypes and Attributes"
   ]
  },
  {
   "cell_type": "code",
   "execution_count": 5,
   "id": "311d4fd0",
   "metadata": {},
   "outputs": [
    {
     "data": {
      "text/plain": [
       "array([1, 2, 3, 4, 6])"
      ]
     },
     "execution_count": 5,
     "metadata": {},
     "output_type": "execute_result"
    }
   ],
   "source": [
    "#numpy main datatype is ndarray (where n denoted to any \n",
    "# number and d to dimentions)\n",
    "\n",
    "# 1-d array\n",
    "a1 = np.array([1,2,3,4,6])\n",
    "a1"
   ]
  },
  {
   "cell_type": "code",
   "execution_count": 6,
   "id": "fbc49336",
   "metadata": {},
   "outputs": [
    {
     "data": {
      "text/plain": [
       "(5, (5,))"
      ]
     },
     "execution_count": 6,
     "metadata": {},
     "output_type": "execute_result"
    }
   ],
   "source": [
    "# size = denotes the number of elements\n",
    "# shape = denoted the rows,column, etc\n",
    "# for 1-d shape is the number of elements in it\n",
    "a1.size , a1.shape"
   ]
  },
  {
   "cell_type": "code",
   "execution_count": 7,
   "id": "a21dfa6d",
   "metadata": {},
   "outputs": [
    {
     "data": {
      "text/plain": [
       "array([[1, 2, 3],\n",
       "       [4, 5, 6]])"
      ]
     },
     "execution_count": 7,
     "metadata": {},
     "output_type": "execute_result"
    }
   ],
   "source": [
    "# 2-d array = matrix\n",
    "a2 = np.array([[1,2,3],\n",
    "               [4,5,6]])\n",
    "a2"
   ]
  },
  {
   "cell_type": "code",
   "execution_count": 8,
   "id": "46e9372c",
   "metadata": {},
   "outputs": [
    {
     "data": {
      "text/plain": [
       "(6, (2, 3))"
      ]
     },
     "execution_count": 8,
     "metadata": {},
     "output_type": "execute_result"
    }
   ],
   "source": [
    "# shape = (row , column) = ( 2, 3 )\n",
    "# size  = row * column = no of elements = 6\n",
    "a2.size , a2.shape"
   ]
  },
  {
   "cell_type": "code",
   "execution_count": 14,
   "id": "795e11ca",
   "metadata": {},
   "outputs": [
    {
     "data": {
      "text/plain": [
       "array([[[1, 2, 3],\n",
       "        [4, 5, 6]],\n",
       "\n",
       "       [[4, 5, 6],\n",
       "        [1, 2, 3]],\n",
       "\n",
       "       [[4, 5, 6],\n",
       "        [1, 2, 3]],\n",
       "\n",
       "       [[4, 5, 6],\n",
       "        [1, 2, 3]]])"
      ]
     },
     "execution_count": 14,
     "metadata": {},
     "output_type": "execute_result"
    }
   ],
   "source": [
    "# n-d array = multidimensional arrays\n",
    "a3 = np.array([\n",
    "               [[1,2,3],\n",
    "                [4,5,6]],\n",
    "              \n",
    "               [[4,5,6],\n",
    "               [1,2,3]],\n",
    "              \n",
    "              [[4,5,6],\n",
    "               [1,2,3]],\n",
    "    \n",
    "              [[4,5,6],\n",
    "               [1,2,3]]  ])\n",
    "a3"
   ]
  },
  {
   "cell_type": "code",
   "execution_count": 15,
   "id": "5a366eef",
   "metadata": {},
   "outputs": [
    {
     "data": {
      "text/plain": [
       "((4, 2, 3), 24)"
      ]
     },
     "execution_count": 15,
     "metadata": {},
     "output_type": "execute_result"
    }
   ],
   "source": [
    "# a3 is the multidimentional array\n",
    "# shape = the end two number will be row and column ( 4,2,3) and the first\n",
    "# denoting the sets\n",
    "a3.shape , a3.size\n"
   ]
  },
  {
   "cell_type": "code",
   "execution_count": 17,
   "id": "ba60298c",
   "metadata": {},
   "outputs": [
    {
     "data": {
      "text/plain": [
       "(1, 3, 2)"
      ]
     },
     "execution_count": 17,
     "metadata": {},
     "output_type": "execute_result"
    }
   ],
   "source": [
    "# this is how to check the dimention of the array\n",
    "# a3  is 3 dimention as . it's have row(h)  , colmn(w)  and set(l)\n",
    "a1.ndim , a3.ndim , a2.ndim"
   ]
  },
  {
   "cell_type": "code",
   "execution_count": 18,
   "id": "b55c3488",
   "metadata": {},
   "outputs": [
    {
     "data": {
      "text/plain": [
       "(numpy.ndarray, numpy.ndarray, numpy.ndarray)"
      ]
     },
     "execution_count": 18,
     "metadata": {},
     "output_type": "execute_result"
    }
   ],
   "source": [
    "# it's datatype \n",
    "type(a1) , type(a2) , type(a3)"
   ]
  },
  {
   "cell_type": "code",
   "execution_count": 26,
   "id": "6df55e68",
   "metadata": {},
   "outputs": [
    {
     "data": {
      "text/html": [
       "<div>\n",
       "<style scoped>\n",
       "    .dataframe tbody tr th:only-of-type {\n",
       "        vertical-align: middle;\n",
       "    }\n",
       "\n",
       "    .dataframe tbody tr th {\n",
       "        vertical-align: top;\n",
       "    }\n",
       "\n",
       "    .dataframe thead th {\n",
       "        text-align: right;\n",
       "    }\n",
       "</style>\n",
       "<table border=\"1\" class=\"dataframe\">\n",
       "  <thead>\n",
       "    <tr style=\"text-align: right;\">\n",
       "      <th></th>\n",
       "      <th>num</th>\n",
       "    </tr>\n",
       "  </thead>\n",
       "  <tbody>\n",
       "    <tr>\n",
       "      <th>0</th>\n",
       "      <td>1</td>\n",
       "    </tr>\n",
       "    <tr>\n",
       "      <th>1</th>\n",
       "      <td>2</td>\n",
       "    </tr>\n",
       "    <tr>\n",
       "      <th>2</th>\n",
       "      <td>3</td>\n",
       "    </tr>\n",
       "    <tr>\n",
       "      <th>3</th>\n",
       "      <td>4</td>\n",
       "    </tr>\n",
       "    <tr>\n",
       "      <th>4</th>\n",
       "      <td>6</td>\n",
       "    </tr>\n",
       "  </tbody>\n",
       "</table>\n",
       "</div>"
      ],
      "text/plain": [
       "   num\n",
       "0    1\n",
       "1    2\n",
       "2    3\n",
       "3    4\n",
       "4    6"
      ]
     },
     "execution_count": 26,
     "metadata": {},
     "output_type": "execute_result"
    }
   ],
   "source": [
    " # numpy in panda\n",
    "import pandas as pd\n",
    "p1 = pd.DataFrame({\"num\" : a1})\n",
    "p1"
   ]
  },
  {
   "cell_type": "code",
   "execution_count": 29,
   "id": "bbe624f3",
   "metadata": {},
   "outputs": [
    {
     "data": {
      "text/html": [
       "<div>\n",
       "<style scoped>\n",
       "    .dataframe tbody tr th:only-of-type {\n",
       "        vertical-align: middle;\n",
       "    }\n",
       "\n",
       "    .dataframe tbody tr th {\n",
       "        vertical-align: top;\n",
       "    }\n",
       "\n",
       "    .dataframe thead th {\n",
       "        text-align: right;\n",
       "    }\n",
       "</style>\n",
       "<table border=\"1\" class=\"dataframe\">\n",
       "  <thead>\n",
       "    <tr style=\"text-align: right;\">\n",
       "      <th></th>\n",
       "      <th>0</th>\n",
       "      <th>1</th>\n",
       "      <th>2</th>\n",
       "    </tr>\n",
       "  </thead>\n",
       "  <tbody>\n",
       "    <tr>\n",
       "      <th>0</th>\n",
       "      <td>1</td>\n",
       "      <td>2</td>\n",
       "      <td>3</td>\n",
       "    </tr>\n",
       "    <tr>\n",
       "      <th>1</th>\n",
       "      <td>4</td>\n",
       "      <td>5</td>\n",
       "      <td>6</td>\n",
       "    </tr>\n",
       "  </tbody>\n",
       "</table>\n",
       "</div>"
      ],
      "text/plain": [
       "   0  1  2\n",
       "0  1  2  3\n",
       "1  4  5  6"
      ]
     },
     "execution_count": 29,
     "metadata": {},
     "output_type": "execute_result"
    }
   ],
   "source": [
    "p2 = pd.DataFrame(a2)\n",
    "p2"
   ]
  },
  {
   "cell_type": "markdown",
   "id": "fed68942",
   "metadata": {},
   "source": [
    "## Creating Arrays"
   ]
  },
  {
   "cell_type": "code",
   "execution_count": 33,
   "id": "06019d34",
   "metadata": {},
   "outputs": [
    {
     "data": {
      "text/plain": [
       "array([[0., 0., 0., 0.],\n",
       "       [0., 0., 0., 0.],\n",
       "       [0., 0., 0., 0.]])"
      ]
     },
     "execution_count": 33,
     "metadata": {},
     "output_type": "execute_result"
    }
   ],
   "source": [
    "zeros = np.zeros((3,4))\n",
    "zeros"
   ]
  },
  {
   "cell_type": "code",
   "execution_count": 34,
   "id": "44420b7e",
   "metadata": {},
   "outputs": [
    {
     "data": {
      "text/plain": [
       "array([[1., 1., 1.],\n",
       "       [1., 1., 1.],\n",
       "       [1., 1., 1.],\n",
       "       [1., 1., 1.]])"
      ]
     },
     "execution_count": 34,
     "metadata": {},
     "output_type": "execute_result"
    }
   ],
   "source": [
    "ones = np.ones((4,3))\n",
    "ones"
   ]
  },
  {
   "cell_type": "code",
   "execution_count": 38,
   "id": "f45232e1",
   "metadata": {},
   "outputs": [
    {
     "data": {
      "text/plain": [
       "(dtype('float64'), dtype('float64'))"
      ]
     },
     "execution_count": 38,
     "metadata": {},
     "output_type": "execute_result"
    }
   ],
   "source": [
    "ones.dtype , zeros.dtype"
   ]
  },
  {
   "cell_type": "markdown",
   "id": "e0073c00",
   "metadata": {},
   "source": [
    "#### there are many other functions\n",
    "##### arange \n",
    "##### randint\n",
    "##### random\n"
   ]
  },
  {
   "cell_type": "code",
   "execution_count": 8,
   "id": "507ee1fe",
   "metadata": {},
   "outputs": [
    {
     "data": {
      "text/plain": [
       "array([-20, -17, -14, -11,  -8,  -5,  -2])"
      ]
     },
     "execution_count": 8,
     "metadata": {},
     "output_type": "execute_result"
    }
   ],
   "source": [
    "# arange = interval value fron start and end\n",
    "np.arange(-20,0,3)"
   ]
  },
  {
   "cell_type": "code",
   "execution_count": 25,
   "id": "e49c4e53",
   "metadata": {},
   "outputs": [
    {
     "data": {
      "text/plain": [
       "array([[[6, 9, 3],\n",
       "        [7, 7, 4],\n",
       "        [5, 9, 3],\n",
       "        [6, 8, 0],\n",
       "        [2, 7, 7]],\n",
       "\n",
       "       [[9, 7, 3],\n",
       "        [0, 8, 7],\n",
       "        [7, 1, 1],\n",
       "        [3, 0, 8],\n",
       "        [6, 4, 5]]])"
      ]
     },
     "execution_count": 25,
     "metadata": {},
     "output_type": "execute_result"
    }
   ],
   "source": [
    "# randint = in int, random numbers (with given start and end)\n",
    "randomint = np.random.randint(0,10, size=(2,5,3))\n",
    "randomint"
   ]
  },
  {
   "cell_type": "code",
   "execution_count": 24,
   "id": "c25ccb8a",
   "metadata": {},
   "outputs": [
    {
     "data": {
      "text/plain": [
       "(30, (2, 5, 3))"
      ]
     },
     "execution_count": 24,
     "metadata": {},
     "output_type": "execute_result"
    }
   ],
   "source": [
    "randomint.size , randomint.shape"
   ]
  },
  {
   "cell_type": "code",
   "execution_count": 46,
   "id": "42f45cfc",
   "metadata": {},
   "outputs": [
    {
     "data": {
      "text/plain": [
       "array([[0.31733098, 0.05286529, 0.28243944],\n",
       "       [0.90087516, 0.82283217, 0.98596003],\n",
       "       [0.43790585, 0.64738517, 0.6573452 ],\n",
       "       [0.75787086, 0.31262411, 0.5122502 ],\n",
       "       [0.69339823, 0.80743113, 0.71473099]])"
      ]
     },
     "execution_count": 46,
     "metadata": {},
     "output_type": "execute_result"
    }
   ],
   "source": [
    "#random = in float , random number between 0 and 1\n",
    "randomfloat = np.random.random((5,3))\n",
    "randomfloat"
   ]
  },
  {
   "cell_type": "markdown",
   "id": "fb9031c8",
   "metadata": {},
   "source": [
    "### seed()"
   ]
  },
  {
   "cell_type": "code",
   "execution_count": 31,
   "id": "ba3f0876",
   "metadata": {},
   "outputs": [
    {
     "data": {
      "text/plain": [
       "array([[[6, 9, 3],\n",
       "        [7, 7, 4],\n",
       "        [5, 9, 3],\n",
       "        [6, 8, 0],\n",
       "        [2, 7, 7]],\n",
       "\n",
       "       [[9, 7, 3],\n",
       "        [0, 8, 7],\n",
       "        [7, 1, 1],\n",
       "        [3, 0, 8],\n",
       "        [6, 4, 5]]])"
      ]
     },
     "execution_count": 31,
     "metadata": {},
     "output_type": "execute_result"
    }
   ],
   "source": [
    "#seed = maintain the random array state , by setting the seed number\n",
    "np.random.seed(1)\n",
    "randomint"
   ]
  },
  {
   "cell_type": "code",
   "execution_count": 49,
   "id": "719d875e",
   "metadata": {},
   "outputs": [
    {
     "data": {
      "text/plain": [
       "array([[0.31733098, 0.05286529, 0.28243944],\n",
       "       [0.90087516, 0.82283217, 0.98596003],\n",
       "       [0.43790585, 0.64738517, 0.6573452 ],\n",
       "       [0.75787086, 0.31262411, 0.5122502 ],\n",
       "       [0.69339823, 0.80743113, 0.71473099]])"
      ]
     },
     "execution_count": 49,
     "metadata": {},
     "output_type": "execute_result"
    }
   ],
   "source": [
    "np.random.seed(99999)\n",
    "randomfloat"
   ]
  },
  {
   "cell_type": "code",
   "execution_count": 60,
   "id": "e0b3e562",
   "metadata": {},
   "outputs": [
    {
     "data": {
      "text/plain": [
       "array([[7, 5, 1, 8],\n",
       "       [7, 8, 2, 9]])"
      ]
     },
     "execution_count": 60,
     "metadata": {},
     "output_type": "execute_result"
    }
   ],
   "source": [
    "np.random.seed(4)\n",
    "random1 = np.random.randint(0,10,size=(2,4))\n",
    "random1"
   ]
  },
  {
   "cell_type": "code",
   "execution_count": 58,
   "id": "c5872581",
   "metadata": {},
   "outputs": [
    {
     "data": {
      "text/plain": [
       "array([[6, 8, 2, 5],\n",
       "       [8, 1, 2, 7]])"
      ]
     },
     "execution_count": 58,
     "metadata": {},
     "output_type": "execute_result"
    }
   ],
   "source": [
    "random1 = np.random.randint(0,10,size=(2,4))\n",
    "random1"
   ]
  },
  {
   "cell_type": "markdown",
   "id": "715bcd13",
   "metadata": {},
   "source": [
    "## Viewing arrays and matrices"
   ]
  },
  {
   "cell_type": "code",
   "execution_count": 3,
   "id": "d4236ec6",
   "metadata": {},
   "outputs": [
    {
     "data": {
      "text/plain": [
       "array([[6, 6, 0],\n",
       "       [1, 0, 5]])"
      ]
     },
     "execution_count": 3,
     "metadata": {},
     "output_type": "execute_result"
    }
   ],
   "source": [
    "a1 = np.random.randint(0,10,size=(2,3))\n",
    "a1"
   ]
  },
  {
   "cell_type": "code",
   "execution_count": 17,
   "id": "115ef57d",
   "metadata": {},
   "outputs": [
    {
     "data": {
      "text/plain": [
       "(array([0, 5]), array([1, 0, 5]))"
      ]
     },
     "execution_count": 17,
     "metadata": {},
     "output_type": "execute_result"
    }
   ],
   "source": [
    "#access the colmn\n",
    "#access the row\n",
    "\n",
    "a1[:,2], a1[1]"
   ]
  },
  {
   "cell_type": "code",
   "execution_count": 19,
   "id": "95fba312",
   "metadata": {},
   "outputs": [
    {
     "data": {
      "text/plain": [
       "5"
      ]
     },
     "execution_count": 19,
     "metadata": {},
     "output_type": "execute_result"
    }
   ],
   "source": [
    "#access on element \n",
    "a1[1][2]"
   ]
  },
  {
   "cell_type": "code",
   "execution_count": 20,
   "id": "3784ad04",
   "metadata": {},
   "outputs": [
    {
     "data": {
      "text/plain": [
       "4"
      ]
     },
     "execution_count": 20,
     "metadata": {},
     "output_type": "execute_result"
    }
   ],
   "source": [
    "a = np.array([1,2,3,4])\n",
    "a[3]"
   ]
  },
  {
   "cell_type": "markdown",
   "id": "1872ee06",
   "metadata": {},
   "source": [
    "## Manipulating and comparing arrays"
   ]
  },
  {
   "cell_type": "markdown",
   "id": "e6d6eabc",
   "metadata": {},
   "source": [
    "### Arithmetic"
   ]
  },
  {
   "cell_type": "code",
   "execution_count": 39,
   "id": "b9cba9af",
   "metadata": {},
   "outputs": [
    {
     "data": {
      "text/plain": [
       "array([1, 2, 3, 4])"
      ]
     },
     "execution_count": 39,
     "metadata": {},
     "output_type": "execute_result"
    }
   ],
   "source": [
    "a1 = np.array([1,2,3,4])\n",
    "a1 "
   ]
  },
  {
   "cell_type": "code",
   "execution_count": 29,
   "id": "7d6e9099",
   "metadata": {},
   "outputs": [
    {
     "data": {
      "text/plain": [
       "array([5, 6, 7, 8])"
      ]
     },
     "execution_count": 29,
     "metadata": {},
     "output_type": "execute_result"
    }
   ],
   "source": [
    "a2 = np.array([5,6,7,8])\n",
    "a2"
   ]
  },
  {
   "cell_type": "code",
   "execution_count": 31,
   "id": "924fef9d",
   "metadata": {},
   "outputs": [
    {
     "data": {
      "text/plain": [
       "(array([ 6,  8, 10, 12]), array([-4, -4, -4, -4]), array([ 5, 12, 21, 32]))"
      ]
     },
     "execution_count": 31,
     "metadata": {},
     "output_type": "execute_result"
    }
   ],
   "source": [
    "a1 + a2 , a1- a2 , a1 * a2"
   ]
  },
  {
   "cell_type": "code",
   "execution_count": 41,
   "id": "77052fc8",
   "metadata": {},
   "outputs": [
    {
     "data": {
      "text/plain": [
       "array([[3, 4, 1, 4],\n",
       "       [8, 1, 7, 7]])"
      ]
     },
     "execution_count": 41,
     "metadata": {},
     "output_type": "execute_result"
    }
   ],
   "source": [
    "a3 = np.random.randint(0,9, size = (2,4))\n",
    "a3"
   ]
  },
  {
   "cell_type": "code",
   "execution_count": 44,
   "id": "82d0c37b",
   "metadata": {},
   "outputs": [
    {
     "data": {
      "text/plain": [
       "array([1, 2, 3, 4])"
      ]
     },
     "execution_count": 44,
     "metadata": {},
     "output_type": "execute_result"
    }
   ],
   "source": [
    "a1"
   ]
  },
  {
   "cell_type": "code",
   "execution_count": 47,
   "id": "69ee71de",
   "metadata": {},
   "outputs": [
    {
     "data": {
      "text/plain": [
       "(array([[ 3,  8,  3, 16],\n",
       "        [ 8,  2, 21, 28]]),\n",
       " array([[ 4,  6,  4,  8],\n",
       "        [ 9,  3, 10, 11]]),\n",
       " array([[ 2,  2, -2,  0],\n",
       "        [ 7, -1,  4,  3]]))"
      ]
     },
     "execution_count": 47,
     "metadata": {},
     "output_type": "execute_result"
    }
   ],
   "source": [
    "a1 * a3 , a1 + a3 , a3 - a1"
   ]
  },
  {
   "cell_type": "code",
   "execution_count": 48,
   "id": "c708786b",
   "metadata": {},
   "outputs": [],
   "source": [
    "# for more knowlege and problem = learn broadcasting rules\n",
    "# Broadcasting = The term broadcasting describes how NumPy treats\n",
    "#                arrays with different shapes during arithmetic operations.\n"
   ]
  },
  {
   "cell_type": "code",
   "execution_count": 56,
   "id": "f5f9f271",
   "metadata": {},
   "outputs": [
    {
     "data": {
      "text/plain": [
       "(array([5, 6, 7, 8]), array([1, 2, 3, 4]))"
      ]
     },
     "execution_count": 56,
     "metadata": {},
     "output_type": "execute_result"
    }
   ],
   "source": [
    "a2 , a1"
   ]
  },
  {
   "cell_type": "code",
   "execution_count": 55,
   "id": "d07cad51",
   "metadata": {},
   "outputs": [
    {
     "data": {
      "text/plain": [
       "(array([0.2       , 0.33333333, 0.42857143, 0.5       ]), array([0, 0, 0, 0]))"
      ]
     },
     "execution_count": 55,
     "metadata": {},
     "output_type": "execute_result"
    }
   ],
   "source": [
    "# / = provide the quotient\n",
    "# // = provide the remainder\n",
    "a1/a2  , a1//a2"
   ]
  },
  {
   "cell_type": "code",
   "execution_count": 58,
   "id": "e428cb34",
   "metadata": {},
   "outputs": [
    {
     "data": {
      "text/plain": [
       "(array([2.23606798, 2.44948974, 2.64575131, 2.82842712]),\n",
       " array([25, 36, 49, 64]),\n",
       " array([ 1,  8, 27, 64], dtype=int32))"
      ]
     },
     "execution_count": 58,
     "metadata": {},
     "output_type": "execute_result"
    }
   ],
   "source": [
    "np.sqrt(a2) , np.square(a2) , a1 ** 3"
   ]
  },
  {
   "cell_type": "markdown",
   "id": "99cd6aac",
   "metadata": {},
   "source": [
    "## Aggregation"
   ]
  },
  {
   "cell_type": "code",
   "execution_count": null,
   "id": "3710e396",
   "metadata": {},
   "outputs": [],
   "source": [
    "# aggregation defination = Aggregation in NumPy means combining multiple values in an array \n",
    "#                          to compute a single summary value, such as finding the sum, mean, maximum,\n",
    "#                          or minimum of the array's elements."
   ]
  },
  {
   "cell_type": "code",
   "execution_count": 59,
   "id": "e9947704",
   "metadata": {},
   "outputs": [
    {
     "data": {
      "text/plain": [
       "[1, 2, 3]"
      ]
     },
     "execution_count": 59,
     "metadata": {},
     "output_type": "execute_result"
    }
   ],
   "source": [
    "# python list\n",
    "pythonlist = [1,2,3]\n",
    "pythonlist"
   ]
  },
  {
   "cell_type": "code",
   "execution_count": 60,
   "id": "0676a085",
   "metadata": {},
   "outputs": [
    {
     "data": {
      "text/plain": [
       "array([4, 5, 6])"
      ]
     },
     "execution_count": 60,
     "metadata": {},
     "output_type": "execute_result"
    }
   ],
   "source": [
    "# numpy array\n",
    "numpyarray = np.array([4,5,6])\n",
    "numpyarray"
   ]
  },
  {
   "cell_type": "code",
   "execution_count": 61,
   "id": "1ba45eb0",
   "metadata": {},
   "outputs": [
    {
     "data": {
      "text/plain": [
       "(6, 15)"
      ]
     },
     "execution_count": 61,
     "metadata": {},
     "output_type": "execute_result"
    }
   ],
   "source": [
    "# summing up python with python sum() function\n",
    "# and numpy with np.sum() function\n",
    "sum(pythonlist) , np.sum(numpyarray)"
   ]
  },
  {
   "cell_type": "markdown",
   "id": "0317dc70",
   "metadata": {},
   "source": [
    "Recommendation = Use python's method (sum()) on python datatypes and use numPy's methods (np.sum()) on arrays\n"
   ]
  },
  {
   "cell_type": "markdown",
   "id": "b190bc5d",
   "metadata": {},
   "source": [
    "numpy is almost 5 times faster than the python operations"
   ]
  },
  {
   "cell_type": "code",
   "execution_count": 11,
   "id": "9675c2c8",
   "metadata": {},
   "outputs": [
    {
     "data": {
      "text/plain": [
       "array([0.17497545, 0.26984502, 0.86396504, 0.60044907, 0.11379072,\n",
       "       0.95066527, 0.14052781, 0.35778624, 0.20645321, 0.82605442])"
      ]
     },
     "execution_count": 11,
     "metadata": {},
     "output_type": "execute_result"
    }
   ],
   "source": [
    "massivedb = np.random.random(size=(200000))\n",
    "massivedb[:10]\n"
   ]
  },
  {
   "cell_type": "code",
   "execution_count": 10,
   "id": "6f260f40",
   "metadata": {},
   "outputs": [
    {
     "name": "stdout",
     "output_type": "stream",
     "text": [
      "37.6 ms ± 2.14 ms per loop (mean ± std. dev. of 7 runs, 10 loops each)\n",
      "201 µs ± 2.85 µs per loop (mean ± std. dev. of 7 runs, 10,000 loops each)\n"
     ]
    }
   ],
   "source": [
    " %timeit sum(massivedb) \n",
    " %timeit np.sum(massivedb)"
   ]
  },
  {
   "cell_type": "code",
   "execution_count": 12,
   "id": "01def98d",
   "metadata": {},
   "outputs": [
    {
     "data": {
      "text/plain": [
       "(0.49896684406254754, 7.1258305189836335e-06, 0.9999978939328417)"
      ]
     },
     "execution_count": 12,
     "metadata": {},
     "output_type": "execute_result"
    }
   ],
   "source": [
    "np.mean(massivedb) , np.min(massivedb) , np.max(massivedb)"
   ]
  },
  {
   "cell_type": "markdown",
   "id": "e37426b9",
   "metadata": {},
   "source": [
    "### Reshaping and transposing"
   ]
  },
  {
   "cell_type": "code",
   "execution_count": 3,
   "id": "36e2eba7",
   "metadata": {},
   "outputs": [],
   "source": [
    "# till now , what i have learned is that reshaping and transposing is used to avoid \n",
    "# the broadcasting error (error comes in arithmetic of two datatypes)"
   ]
  },
  {
   "cell_type": "code",
   "execution_count": 6,
   "id": "584ce640",
   "metadata": {},
   "outputs": [
    {
     "data": {
      "text/plain": [
       "array([[6, 7, 1],\n",
       "       [8, 0, 6]])"
      ]
     },
     "execution_count": 6,
     "metadata": {},
     "output_type": "execute_result"
    }
   ],
   "source": [
    "z= np.random.randint(0,10,size=(2,3))\n",
    "z"
   ]
  },
  {
   "cell_type": "code",
   "execution_count": 7,
   "id": "69e4ea3f",
   "metadata": {},
   "outputs": [
    {
     "data": {
      "text/plain": [
       "array([[6, 8],\n",
       "       [7, 0],\n",
       "       [1, 6]])"
      ]
     },
     "execution_count": 7,
     "metadata": {},
     "output_type": "execute_result"
    }
   ],
   "source": [
    "z.T"
   ]
  },
  {
   "cell_type": "markdown",
   "id": "a8b405c3",
   "metadata": {},
   "source": [
    "##### how tansposing helped\n"
   ]
  },
  {
   "cell_type": "markdown",
   "id": "64242ac3",
   "metadata": {},
   "source": [
    "##### Dot product"
   ]
  },
  {
   "cell_type": "code",
   "execution_count": 10,
   "id": "3771da3d",
   "metadata": {},
   "outputs": [
    {
     "data": {
      "text/plain": [
       "(array([[6, 7, 1],\n",
       "        [8, 0, 6]]),\n",
       " (2, 3))"
      ]
     },
     "execution_count": 10,
     "metadata": {},
     "output_type": "execute_result"
    }
   ],
   "source": [
    "# dot product rule = (2,3) (3,4)\n",
    "#                    (5,4) (4,6)\n",
    "# dot product occur , when the inner element is have similar value\n",
    "# dot product = work exactly as did in 12th std , multipy two matrix\n",
    "z , z.shape"
   ]
  },
  {
   "cell_type": "code",
   "execution_count": 11,
   "id": "b3840770",
   "metadata": {},
   "outputs": [
    {
     "data": {
      "text/plain": [
       "array([[0, 7, 7],\n",
       "       [0, 8, 3],\n",
       "       [3, 9, 0],\n",
       "       [2, 2, 6]])"
      ]
     },
     "execution_count": 11,
     "metadata": {},
     "output_type": "execute_result"
    }
   ],
   "source": [
    "y = np.random.randint(0,10,size=(4,3))"
   ]
  },
  {
   "cell_type": "code",
   "execution_count": 13,
   "id": "82584290",
   "metadata": {},
   "outputs": [
    {
     "data": {
      "text/plain": [
       "((2, 3), (4, 3))"
      ]
     },
     "execution_count": 13,
     "metadata": {},
     "output_type": "execute_result"
    }
   ],
   "source": [
    "# error in dot product, as condition not met\n",
    "z.shape , y.shape"
   ]
  },
  {
   "cell_type": "code",
   "execution_count": 17,
   "id": "2f1ccdba",
   "metadata": {},
   "outputs": [
    {
     "data": {
      "text/plain": [
       "(3, 4)"
      ]
     },
     "execution_count": 17,
     "metadata": {},
     "output_type": "execute_result"
    }
   ],
   "source": [
    "# transporting the y matrix for fullfiling the conditions\n",
    "y.T.shape "
   ]
  },
  {
   "cell_type": "code",
   "execution_count": 20,
   "id": "71f538cf",
   "metadata": {},
   "outputs": [
    {
     "ename": "ValueError",
     "evalue": "shapes (2,3) and (4,3) not aligned: 3 (dim 1) != 4 (dim 0)",
     "output_type": "error",
     "traceback": [
      "\u001b[1;31m---------------------------------------------------------------------------\u001b[0m",
      "\u001b[1;31mValueError\u001b[0m                                Traceback (most recent call last)",
      "Cell \u001b[1;32mIn[20], line 1\u001b[0m\n\u001b[1;32m----> 1\u001b[0m \u001b[43mnp\u001b[49m\u001b[38;5;241;43m.\u001b[39;49m\u001b[43mdot\u001b[49m\u001b[43m(\u001b[49m\u001b[43mz\u001b[49m\u001b[43m,\u001b[49m\u001b[43my\u001b[49m\u001b[43m)\u001b[49m\n",
      "\u001b[1;31mValueError\u001b[0m: shapes (2,3) and (4,3) not aligned: 3 (dim 1) != 4 (dim 0)"
     ]
    }
   ],
   "source": [
    "np.dot(z,y)"
   ]
  },
  {
   "cell_type": "code",
   "execution_count": 19,
   "id": "66f72310",
   "metadata": {},
   "outputs": [
    {
     "data": {
      "text/plain": [
       "array([[56, 59, 81, 32],\n",
       "       [42, 18, 24, 52]])"
      ]
     },
     "execution_count": 19,
     "metadata": {},
     "output_type": "execute_result"
    }
   ],
   "source": [
    "np.dot(z,y.T)"
   ]
  },
  {
   "cell_type": "markdown",
   "id": "62ee53ce",
   "metadata": {},
   "source": [
    "#### Standard deviation and variance are measures of \"spread\" of Data"
   ]
  },
  {
   "cell_type": "markdown",
   "id": "e0a471f0",
   "metadata": {},
   "source": [
    "The higher standard deviation and the variance , the more spread out the values are"
   ]
  },
  {
   "cell_type": "code",
   "execution_count": 22,
   "id": "02918eb8",
   "metadata": {},
   "outputs": [],
   "source": [
    "# Standard deviation (std) = a measure of how spread out a group of numbers is from the mean\n",
    "# Variance (var) = measure of the average degree to which each number is different.\n",
    "\n",
    "# Higher variance = wider range of numbers\n",
    "# lower variance  = lower range of numbers"
   ]
  },
  {
   "cell_type": "code",
   "execution_count": 23,
   "id": "c4b4b847",
   "metadata": {},
   "outputs": [],
   "source": [
    "higer_spread = np.array([1,10,100,2000,3000,80000])\n",
    "lower_spread = np.array([1,3,5,7,9])"
   ]
  },
  {
   "cell_type": "code",
   "execution_count": 24,
   "id": "d94ce38c",
   "metadata": {},
   "outputs": [
    {
     "data": {
      "text/plain": [
       "(867616063.472222, 8.0)"
      ]
     },
     "execution_count": 24,
     "metadata": {},
     "output_type": "execute_result"
    }
   ],
   "source": [
    "# variance\n",
    "np.var(higer_spread) , np.var(lower_spread)"
   ]
  },
  {
   "cell_type": "code",
   "execution_count": 26,
   "id": "41fcb682",
   "metadata": {},
   "outputs": [
    {
     "data": {
      "text/plain": [
       "(29455.323177181777, 2.8284271247461903)"
      ]
     },
     "execution_count": 26,
     "metadata": {},
     "output_type": "execute_result"
    }
   ],
   "source": [
    "# standard - spread from mean\n",
    "np.std(higer_spread),np.std(lower_spread)"
   ]
  },
  {
   "cell_type": "markdown",
   "id": "36587c46",
   "metadata": {},
   "source": [
    "\n",
    "## Dot product practical expercise : karan fav good sales"
   ]
  },
  {
   "cell_type": "code",
   "execution_count": 23,
   "id": "1db1cb87",
   "metadata": {},
   "outputs": [
    {
     "data": {
      "text/plain": [
       "array([[45, 48, 65],\n",
       "       [68, 68, 10],\n",
       "       [84, 22, 37],\n",
       "       [88, 71, 89],\n",
       "       [89, 13, 59]])"
      ]
     },
     "execution_count": 23,
     "metadata": {},
     "output_type": "execute_result"
    }
   ],
   "source": [
    "np.random.seed(0)\n",
    "sales_data_mat = np.random.randint(1,100,size=(5,3))\n",
    "sales_data_mat"
   ]
  },
  {
   "cell_type": "code",
   "execution_count": 24,
   "id": "50af70a0",
   "metadata": {},
   "outputs": [
    {
     "data": {
      "text/html": [
       "<div>\n",
       "<style scoped>\n",
       "    .dataframe tbody tr th:only-of-type {\n",
       "        vertical-align: middle;\n",
       "    }\n",
       "\n",
       "    .dataframe tbody tr th {\n",
       "        vertical-align: top;\n",
       "    }\n",
       "\n",
       "    .dataframe thead th {\n",
       "        text-align: right;\n",
       "    }\n",
       "</style>\n",
       "<table border=\"1\" class=\"dataframe\">\n",
       "  <thead>\n",
       "    <tr style=\"text-align: right;\">\n",
       "      <th></th>\n",
       "      <th>rajma-rice</th>\n",
       "      <th>thumbs-up</th>\n",
       "      <th>malai-chiken pizza</th>\n",
       "    </tr>\n",
       "  </thead>\n",
       "  <tbody>\n",
       "    <tr>\n",
       "      <th>Mon</th>\n",
       "      <td>45</td>\n",
       "      <td>48</td>\n",
       "      <td>65</td>\n",
       "    </tr>\n",
       "    <tr>\n",
       "      <th>Tues</th>\n",
       "      <td>68</td>\n",
       "      <td>68</td>\n",
       "      <td>10</td>\n",
       "    </tr>\n",
       "    <tr>\n",
       "      <th>wed</th>\n",
       "      <td>84</td>\n",
       "      <td>22</td>\n",
       "      <td>37</td>\n",
       "    </tr>\n",
       "    <tr>\n",
       "      <th>Thurs</th>\n",
       "      <td>88</td>\n",
       "      <td>71</td>\n",
       "      <td>89</td>\n",
       "    </tr>\n",
       "    <tr>\n",
       "      <th>Fri</th>\n",
       "      <td>89</td>\n",
       "      <td>13</td>\n",
       "      <td>59</td>\n",
       "    </tr>\n",
       "  </tbody>\n",
       "</table>\n",
       "</div>"
      ],
      "text/plain": [
       "       rajma-rice  thumbs-up  malai-chiken pizza\n",
       "Mon            45         48                  65\n",
       "Tues           68         68                  10\n",
       "wed            84         22                  37\n",
       "Thurs          88         71                  89\n",
       "Fri            89         13                  59"
      ]
     },
     "execution_count": 24,
     "metadata": {},
     "output_type": "execute_result"
    }
   ],
   "source": [
    "## converting it into gud form , datafram\n",
    "import pandas as pd\n",
    "sales_data = pd.DataFrame(sales_data_mat, index= [\"Mon\",\"Tues\",\"wed\",\"Thurs\",\"Fri\"], \n",
    "                          columns = [\"rajma-rice\",\"thumbs-up\",\"malai-chiken pizza\"])\n",
    "sales_data"
   ]
  },
  {
   "cell_type": "code",
   "execution_count": 25,
   "id": "696090fb",
   "metadata": {},
   "outputs": [
    {
     "data": {
      "text/plain": [
       "(1, 3)"
      ]
     },
     "execution_count": 25,
     "metadata": {},
     "output_type": "execute_result"
    }
   ],
   "source": [
    "price_chart_mat = np.array([250,80 , 300])\n",
    "price_chart_mat.reshape(1,3).shape"
   ]
  },
  {
   "cell_type": "code",
   "execution_count": 27,
   "id": "05447e87",
   "metadata": {
    "scrolled": true
   },
   "outputs": [
    {
     "data": {
      "text/html": [
       "<div>\n",
       "<style scoped>\n",
       "    .dataframe tbody tr th:only-of-type {\n",
       "        vertical-align: middle;\n",
       "    }\n",
       "\n",
       "    .dataframe tbody tr th {\n",
       "        vertical-align: top;\n",
       "    }\n",
       "\n",
       "    .dataframe thead th {\n",
       "        text-align: right;\n",
       "    }\n",
       "</style>\n",
       "<table border=\"1\" class=\"dataframe\">\n",
       "  <thead>\n",
       "    <tr style=\"text-align: right;\">\n",
       "      <th></th>\n",
       "      <th>rajma-rice</th>\n",
       "      <th>thumbs-up</th>\n",
       "      <th>malai-chiken pizza</th>\n",
       "    </tr>\n",
       "  </thead>\n",
       "  <tbody>\n",
       "    <tr>\n",
       "      <th>prices of items</th>\n",
       "      <td>250</td>\n",
       "      <td>80</td>\n",
       "      <td>300</td>\n",
       "    </tr>\n",
       "  </tbody>\n",
       "</table>\n",
       "</div>"
      ],
      "text/plain": [
       "                 rajma-rice  thumbs-up  malai-chiken pizza\n",
       "prices of items         250         80                 300"
      ]
     },
     "execution_count": 27,
     "metadata": {},
     "output_type": "execute_result"
    }
   ],
   "source": [
    "price_chart = pd.DataFrame(price_chart_mat.reshape(1,3),index=[\"prices of items\"], columns=[\"rajma-rice\",\"thumbs-up\",\"malai-chiken pizza\"])\n",
    "price_chart"
   ]
  },
  {
   "cell_type": "code",
   "execution_count": 28,
   "id": "3fa5f83e",
   "metadata": {},
   "outputs": [
    {
     "data": {
      "text/plain": [
       "((1, 3), (3, 5))"
      ]
     },
     "execution_count": 28,
     "metadata": {},
     "output_type": "execute_result"
    }
   ],
   "source": [
    "price_chart.shape , sales_data.T.shape"
   ]
  },
  {
   "cell_type": "code",
   "execution_count": 29,
   "id": "af8412da",
   "metadata": {},
   "outputs": [
    {
     "data": {
      "text/plain": [
       "array([34590, 25440, 33860, 54380, 40990])"
      ]
     },
     "execution_count": 29,
     "metadata": {},
     "output_type": "execute_result"
    }
   ],
   "source": [
    "total_price_mat = price_chart_mat.dot(sales_data_mat.T)\n",
    "total_price_mat"
   ]
  },
  {
   "cell_type": "code",
   "execution_count": 33,
   "id": "187e925c",
   "metadata": {},
   "outputs": [
    {
     "data": {
      "text/html": [
       "<div>\n",
       "<style scoped>\n",
       "    .dataframe tbody tr th:only-of-type {\n",
       "        vertical-align: middle;\n",
       "    }\n",
       "\n",
       "    .dataframe tbody tr th {\n",
       "        vertical-align: top;\n",
       "    }\n",
       "\n",
       "    .dataframe thead th {\n",
       "        text-align: right;\n",
       "    }\n",
       "</style>\n",
       "<table border=\"1\" class=\"dataframe\">\n",
       "  <thead>\n",
       "    <tr style=\"text-align: right;\">\n",
       "      <th></th>\n",
       "      <th>total sale of each item (INR)</th>\n",
       "    </tr>\n",
       "  </thead>\n",
       "  <tbody>\n",
       "    <tr>\n",
       "      <th>Mon</th>\n",
       "      <td>34590</td>\n",
       "    </tr>\n",
       "    <tr>\n",
       "      <th>Tues</th>\n",
       "      <td>25440</td>\n",
       "    </tr>\n",
       "    <tr>\n",
       "      <th>wed</th>\n",
       "      <td>33860</td>\n",
       "    </tr>\n",
       "    <tr>\n",
       "      <th>Thurs</th>\n",
       "      <td>54380</td>\n",
       "    </tr>\n",
       "    <tr>\n",
       "      <th>Fri</th>\n",
       "      <td>40990</td>\n",
       "    </tr>\n",
       "  </tbody>\n",
       "</table>\n",
       "</div>"
      ],
      "text/plain": [
       "       total sale of each item (INR)\n",
       "Mon                            34590\n",
       "Tues                           25440\n",
       "wed                            33860\n",
       "Thurs                          54380\n",
       "Fri                            40990"
      ]
     },
     "execution_count": 33,
     "metadata": {},
     "output_type": "execute_result"
    }
   ],
   "source": [
    "total_price = pd.DataFrame(total_price_mat,index= [\"Mon\",\"Tues\",\"wed\",\"Thurs\",\"Fri\"], \n",
    "                          columns = [\"total sale of each item (INR)\"])\n",
    "total_price"
   ]
  },
  {
   "cell_type": "code",
   "execution_count": 34,
   "id": "c5e2f2af",
   "metadata": {},
   "outputs": [
    {
     "data": {
      "text/html": [
       "<div>\n",
       "<style scoped>\n",
       "    .dataframe tbody tr th:only-of-type {\n",
       "        vertical-align: middle;\n",
       "    }\n",
       "\n",
       "    .dataframe tbody tr th {\n",
       "        vertical-align: top;\n",
       "    }\n",
       "\n",
       "    .dataframe thead th {\n",
       "        text-align: right;\n",
       "    }\n",
       "</style>\n",
       "<table border=\"1\" class=\"dataframe\">\n",
       "  <thead>\n",
       "    <tr style=\"text-align: right;\">\n",
       "      <th></th>\n",
       "      <th>rajma-rice</th>\n",
       "      <th>thumbs-up</th>\n",
       "      <th>malai-chiken pizza</th>\n",
       "    </tr>\n",
       "  </thead>\n",
       "  <tbody>\n",
       "    <tr>\n",
       "      <th>Mon</th>\n",
       "      <td>45</td>\n",
       "      <td>48</td>\n",
       "      <td>65</td>\n",
       "    </tr>\n",
       "    <tr>\n",
       "      <th>Tues</th>\n",
       "      <td>68</td>\n",
       "      <td>68</td>\n",
       "      <td>10</td>\n",
       "    </tr>\n",
       "    <tr>\n",
       "      <th>wed</th>\n",
       "      <td>84</td>\n",
       "      <td>22</td>\n",
       "      <td>37</td>\n",
       "    </tr>\n",
       "    <tr>\n",
       "      <th>Thurs</th>\n",
       "      <td>88</td>\n",
       "      <td>71</td>\n",
       "      <td>89</td>\n",
       "    </tr>\n",
       "    <tr>\n",
       "      <th>Fri</th>\n",
       "      <td>89</td>\n",
       "      <td>13</td>\n",
       "      <td>59</td>\n",
       "    </tr>\n",
       "  </tbody>\n",
       "</table>\n",
       "</div>"
      ],
      "text/plain": [
       "       rajma-rice  thumbs-up  malai-chiken pizza\n",
       "Mon            45         48                  65\n",
       "Tues           68         68                  10\n",
       "wed            84         22                  37\n",
       "Thurs          88         71                  89\n",
       "Fri            89         13                  59"
      ]
     },
     "execution_count": 34,
     "metadata": {},
     "output_type": "execute_result"
    }
   ],
   "source": [
    "sales_data"
   ]
  },
  {
   "cell_type": "code",
   "execution_count": 37,
   "id": "fca4989d",
   "metadata": {},
   "outputs": [
    {
     "data": {
      "text/html": [
       "<div>\n",
       "<style scoped>\n",
       "    .dataframe tbody tr th:only-of-type {\n",
       "        vertical-align: middle;\n",
       "    }\n",
       "\n",
       "    .dataframe tbody tr th {\n",
       "        vertical-align: top;\n",
       "    }\n",
       "\n",
       "    .dataframe thead th {\n",
       "        text-align: right;\n",
       "    }\n",
       "</style>\n",
       "<table border=\"1\" class=\"dataframe\">\n",
       "  <thead>\n",
       "    <tr style=\"text-align: right;\">\n",
       "      <th></th>\n",
       "      <th>rajma-rice</th>\n",
       "      <th>thumbs-up</th>\n",
       "      <th>malai-chiken pizza</th>\n",
       "      <th>total sale of each item (INR)</th>\n",
       "    </tr>\n",
       "  </thead>\n",
       "  <tbody>\n",
       "    <tr>\n",
       "      <th>Mon</th>\n",
       "      <td>45</td>\n",
       "      <td>48</td>\n",
       "      <td>65</td>\n",
       "      <td>34590</td>\n",
       "    </tr>\n",
       "    <tr>\n",
       "      <th>Tues</th>\n",
       "      <td>68</td>\n",
       "      <td>68</td>\n",
       "      <td>10</td>\n",
       "      <td>25440</td>\n",
       "    </tr>\n",
       "    <tr>\n",
       "      <th>wed</th>\n",
       "      <td>84</td>\n",
       "      <td>22</td>\n",
       "      <td>37</td>\n",
       "      <td>33860</td>\n",
       "    </tr>\n",
       "    <tr>\n",
       "      <th>Thurs</th>\n",
       "      <td>88</td>\n",
       "      <td>71</td>\n",
       "      <td>89</td>\n",
       "      <td>54380</td>\n",
       "    </tr>\n",
       "    <tr>\n",
       "      <th>Fri</th>\n",
       "      <td>89</td>\n",
       "      <td>13</td>\n",
       "      <td>59</td>\n",
       "      <td>40990</td>\n",
       "    </tr>\n",
       "  </tbody>\n",
       "</table>\n",
       "</div>"
      ],
      "text/plain": [
       "       rajma-rice  thumbs-up  malai-chiken pizza  \\\n",
       "Mon            45         48                  65   \n",
       "Tues           68         68                  10   \n",
       "wed            84         22                  37   \n",
       "Thurs          88         71                  89   \n",
       "Fri            89         13                  59   \n",
       "\n",
       "       total sale of each item (INR)  \n",
       "Mon                            34590  \n",
       "Tues                           25440  \n",
       "wed                            33860  \n",
       "Thurs                          54380  \n",
       "Fri                            40990  "
      ]
     },
     "execution_count": 37,
     "metadata": {},
     "output_type": "execute_result"
    }
   ],
   "source": [
    "sales_data[\"total sale of each item (INR)\"] = total_price\n",
    "sales_data"
   ]
  },
  {
   "cell_type": "code",
   "execution_count": 38,
   "id": "064fe2d9",
   "metadata": {},
   "outputs": [
    {
     "data": {
      "text/html": [
       "<div>\n",
       "<style scoped>\n",
       "    .dataframe tbody tr th:only-of-type {\n",
       "        vertical-align: middle;\n",
       "    }\n",
       "\n",
       "    .dataframe tbody tr th {\n",
       "        vertical-align: top;\n",
       "    }\n",
       "\n",
       "    .dataframe thead th {\n",
       "        text-align: right;\n",
       "    }\n",
       "</style>\n",
       "<table border=\"1\" class=\"dataframe\">\n",
       "  <thead>\n",
       "    <tr style=\"text-align: right;\">\n",
       "      <th></th>\n",
       "      <th>rajma-rice</th>\n",
       "      <th>thumbs-up</th>\n",
       "      <th>malai-chiken pizza</th>\n",
       "    </tr>\n",
       "  </thead>\n",
       "  <tbody>\n",
       "    <tr>\n",
       "      <th>prices of items</th>\n",
       "      <td>250</td>\n",
       "      <td>80</td>\n",
       "      <td>300</td>\n",
       "    </tr>\n",
       "  </tbody>\n",
       "</table>\n",
       "</div>"
      ],
      "text/plain": [
       "                 rajma-rice  thumbs-up  malai-chiken pizza\n",
       "prices of items         250         80                 300"
      ]
     },
     "execution_count": 38,
     "metadata": {},
     "output_type": "execute_result"
    }
   ],
   "source": [
    "price_chart"
   ]
  },
  {
   "cell_type": "code",
   "execution_count": null,
   "id": "54fef404",
   "metadata": {},
   "outputs": [],
   "source": []
  }
 ],
 "metadata": {
  "kernelspec": {
   "display_name": "Python 3 (ipykernel)",
   "language": "python",
   "name": "python3"
  },
  "language_info": {
   "codemirror_mode": {
    "name": "ipython",
    "version": 3
   },
   "file_extension": ".py",
   "mimetype": "text/x-python",
   "name": "python",
   "nbconvert_exporter": "python",
   "pygments_lexer": "ipython3",
   "version": "3.10.12"
  }
 },
 "nbformat": 4,
 "nbformat_minor": 5
}
